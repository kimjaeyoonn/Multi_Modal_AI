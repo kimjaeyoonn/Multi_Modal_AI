{
 "cells": [
  {
   "cell_type": "markdown",
   "id": "1be695f1",
   "metadata": {},
   "source": [
    "## 작업에 필요한 라이브러리\n",
    "- pytube\n",
    "- moviepy\n",
    "- SpeechRecognition\n",
    "- pocketsphinx\n",
    "- ffmpeg-python"
   ]
  },
  {
   "cell_type": "markdown",
   "id": "a42b09da",
   "metadata": {},
   "source": [
    "## Youtube 영상 다운로드\n",
    "- pytube 라이브러리 사용하여 다운로드"
   ]
  },
  {
   "cell_type": "code",
   "execution_count": 46,
   "id": "e496ecf3",
   "metadata": {},
   "outputs": [
    {
     "data": {
      "text/plain": [
       "'C:\\\\Users\\\\User\\\\Jupyter NotebookJupyter NotebookJupyter Notebook\\\\KETI\\\\./example_video.mp4'"
      ]
     },
     "execution_count": 46,
     "metadata": {},
     "output_type": "execute_result"
    }
   ],
   "source": [
    "from pytube import YouTube\n",
    "\n",
    "# 유튜브 영상 URL\n",
    "url = \"https://www.youtube.com/watch?v=oYnfsg-l0KM\"\n",
    "\n",
    "# 유튜브 영상 객체 생성\n",
    "video = YouTube(url)\n",
    "\n",
    "stream = video.streams.get_highest_resolution()\n",
    "\n",
    "# 유튜브 영상 다운로드\n",
    "stream.download(output_path=\"./\", filename=\"example_video.mp4\")"
   ]
  },
  {
   "cell_type": "markdown",
   "id": "553d70f4",
   "metadata": {},
   "source": [
    "## 영상에서 음성 추출\n",
    "- movipy 라이브러리 사용하여 음성 추출"
   ]
  },
  {
   "cell_type": "code",
   "execution_count": 50,
   "id": "c509c115",
   "metadata": {},
   "outputs": [
    {
     "name": "stdout",
     "output_type": "stream",
     "text": [
      "MoviePy - Writing audio in audio_file.wav\n"
     ]
    },
    {
     "name": "stderr",
     "output_type": "stream",
     "text": [
      "                                                                                                                       "
     ]
    },
    {
     "name": "stdout",
     "output_type": "stream",
     "text": [
      "MoviePy - Done.\n"
     ]
    },
    {
     "name": "stderr",
     "output_type": "stream",
     "text": [
      "\r"
     ]
    }
   ],
   "source": [
    "from moviepy.video.io.VideoFileClip import VideoFileClip\n",
    "\n",
    "# 다운로드한 유튜브 영상 파일 경로\n",
    "video_file = \"./example_video.mp4\"\n",
    "\n",
    "# VideoFileClip 객체 생성\n",
    "video = VideoFileClip(video_file)\n",
    "\n",
    "# 음성 추출\n",
    "audio = video.audio\n",
    "audio.write_audiofile(\"audio_file.wav\")"
   ]
  },
  {
   "cell_type": "markdown",
   "id": "c2b227c8",
   "metadata": {},
   "source": [
    "## Speech to Text\n",
    "- speech_recognition 라이브러리 사용하여 변환"
   ]
  },
  {
   "cell_type": "code",
   "execution_count": 52,
   "id": "800173dd",
   "metadata": {},
   "outputs": [
    {
     "name": "stdout",
     "output_type": "stream",
     "text": [
      "result2:\n",
      "{   'alternative': [   {   'confidence': 0.91557288,\n",
      "                           'transcript': '1분이 짧은 시간에라고 상기 주니까 그렇지 않습니다 제가 말할 순 '\n",
      "                                         '없죠 베트남 일본 과학이지만 모든 영상 일부는 오니까 파전에 '\n",
      "                                         '이렇게 짧은 시간에도 향기 가득한 치과에 전화 엄청나게 많은 일이 '\n",
      "                                         '일어나고 있습니다 1분 동안 106명이 사람이 좋고 250명에 '\n",
      "                                         '생명의 태어나고 114명을 다 망가져서 편하고 그대눈에 12만 '\n",
      "                                         '깜빡이고 75명이 심장은 6008 가지고 660만 일터에서 비가 '\n",
      "                                         '사용되고 2500원의 쏟아지고 E300 또는 먹을 수 있는 음식물 '\n",
      "                                         '쓰레기고 5번에 지진이 발생하고 6,000원에 천둥이 떨어지고 '\n",
      "                                         '6천개의 공기가 날아다니고 우주를 4570s 팽창하고 그동안 얘는 '\n",
      "                                         '4 m 움직이고 6 - 26 칼로리를 성공하고 1만개 콘돔이 '\n",
      "                                         '팔리고 17만명이 인간이 색칠을 하고 그러면 일에 저장해 정자가 '\n",
      "                                         '이용권 1분 동안 색스가 170927 많은 34 34 지구의 인구 '\n",
      "                                         '수가 75억 이니까 34길 75 4533 4503 남해군 그리고이 '\n",
      "                                         '영상은 제가 처음으로 1분의 탁 맞추어 끝내는'},\n",
      "                       {   'transcript': '1분이 짧은 시간에라고 상기 주니까 그렇지 않습니다 제가 말할 순 '\n",
      "                                         '없죠 베트남 일본 과학이지만 모든 영상 일부는 오니까 파전에 '\n",
      "                                         '이렇게 짧은 시간에도 향기 가득한 치과에 전화 엄청나게 많은 일이 '\n",
      "                                         '일어나고 있습니다 1분 동안 106명이 사람이 좋고 250명에 '\n",
      "                                         '생명의 태어나고 114명을 다 망가져서 편하고 그대눈에 12만 '\n",
      "                                         '깜빡이고 75명이 심장은 6008 가지고 660만 일터에서 비가 '\n",
      "                                         '사용되고 2500원의 쏟아지고 E300 또는 먹을 수 있는 음식물 '\n",
      "                                         '쓰레기고 5번에 지진이 발생하고 6,000원에 천둥이 떨어지고 '\n",
      "                                         '6천개의 공기가 날아다니고 우주를 4570s 팽창하고 그동안 얘는 '\n",
      "                                         '4 m 움직이고 6 - 26 칼로리를 성공하고 1만개 콘돔이 '\n",
      "                                         '팔리고 17만명이 인간이 색칠을 하고 그러면 일에 저장해 정자가 '\n",
      "                                         '이용권 1분 동안 색스가 170927 많은 34 34 지구의 인구 '\n",
      "                                         '수가 75억 이니까 34길 75 4533 4503 남해군 그리고이 '\n",
      "                                         '영상은 제가 처음으로 일본의 탁 맞추어 끝내는'},\n",
      "                       {   'transcript': '1분이 짧은 시간에라고 상기 주니까 그렇지 않습니다 제가 말할 순 '\n",
      "                                         '없죠 베트남 일본 과학이지만 모든 영상 일부는 오니까 파전에 '\n",
      "                                         '이렇게 짧은 시간에도 향기 가득한 치과에 전화 엄청나게 많은 일이 '\n",
      "                                         '일어나고 있습니다 1분 동안 106명이 사람이 좋고 250명에 '\n",
      "                                         '생명의 태어나고 114명을 다 망가져서 편하고 그대눈에 12만 '\n",
      "                                         '깜빡이고 75명이 심장은 6008 가지고 660만 일터에서 비가 '\n",
      "                                         '사용되고 2500원의 쏟아지고 E300 또는 먹을 수 있는 음식물 '\n",
      "                                         '쓰레기고 5번에 지진이 발생하고 6,000원에 천둥이 떨어지고 '\n",
      "                                         '6,000개의 공기가 날아다니고 우주를 4570s 팽창하고 그동안 '\n",
      "                                         '얘는 4 m 움직이고 6 - 26 칼로리를 성공하고 1만개 콘돔이 '\n",
      "                                         '팔리고 17만명이 인간이 색칠을 하고 그러면 일에 저장해 정자가 '\n",
      "                                         '이용권 1분 동안 색스가 170927 많은 34 34 지구의 인구 '\n",
      "                                         '수가 75억 이니까 34길 75 4533 4503 남해군 그리고이 '\n",
      "                                         '영상은 제가 처음으로 1분의 탁 맞추어 끝내는'},\n",
      "                       {   'transcript': '1분이 짧은 시간에라고 상기 주니까 그렇지 않습니다 제가 말할 순 '\n",
      "                                         '없죠 베트남 일본 과학이지만 모든 영상 일부는 오니까 파전에 '\n",
      "                                         '이렇게 짧은 시간에도 향기 가득한 치과에 전화 엄청나게 많은 일이 '\n",
      "                                         '일어나고 있습니다 1분 동안 106명이 사람이 좋고 250명에 '\n",
      "                                         '생명의 태어나고 114명을 다 망가져서 편하고 그대눈에 12만 '\n",
      "                                         '깜빡이고 75명이 심장은 6008 가지고 660만 일터에서 비가 '\n",
      "                                         '사용되고 2500원의 쏟아지고 먹을 수 있는 음식물 쓰레기고 '\n",
      "                                         '5번에 지진이 발생하고 6,000원에 천둥이 떨어지고 6000개의 '\n",
      "                                         '공기가 날아다니고 우주를 4570s 팽창하고 그동안 얘는 4 m '\n",
      "                                         '움직이고 6 - 26 칼로리를 성공하고 1만개 콘돔이 팔리고 '\n",
      "                                         '17만명이 인간이 색칠을 하고 그러면 일에 저장해 정자가 이용권 '\n",
      "                                         '1분 동안 색스가 170927 많은 34 34 지구의 인구 수가 '\n",
      "                                         '75억 이니까 34길 75 4533 4503 남해군 그리고이 '\n",
      "                                         '영상은 제가 처음으로 일본의 탁 맞추어 끝내는'},\n",
      "                       {   'transcript': '1분이 짧은 시간에라고 상기 주니까 그렇지 않습니다 제가 말할 순 '\n",
      "                                         '없죠 베트남 일본 과학이지만 모든 영상 일부는 오니까 파전에 '\n",
      "                                         '이렇게 짧은 시간에도 향기 가득한 치과에 전화 엄청나게 많은 일이 '\n",
      "                                         '일어나고 있습니다 1분 동안 106명이 사람이 좋고 250명에 '\n",
      "                                         '생명의 태어나고 114명을 다 망가져서 편하고 그대눈에 12만 '\n",
      "                                         '깜빡이고 75명이 심장은 6008 가지고 660만 일터에서 비가 '\n",
      "                                         '사용되고 2500원의 쏟아지고 E300 또는 먹을 수 있는 음식물 '\n",
      "                                         '쓰레기고 5번에 지진이 발생하고 6,000원에 천둥이 떨어지고 '\n",
      "                                         '6,000개의 공기가 날아다니고 우주를 4570s 팽창하고 그동안 '\n",
      "                                         '얘는 4 m 움직이고 6 - 26 칼로리를 성공하고 1만개 콘돔이 '\n",
      "                                         '팔리고 17만명이 인간이 색칠을 하고 그러면 일에 저장해 정자가 '\n",
      "                                         '이용권 1분 동안 색들과 170927 많은 34 34 지구의 인구 '\n",
      "                                         '수가 75억 이니까 34길 75 4533 4503 남해군 그리고이 '\n",
      "                                         '영상은 제가 처음으로 일본의 탁 맞추어 끝내는'}],\n",
      "    'final': True}\n",
      "1분이 짧은 시간에라고 상기 주니까 그렇지 않습니다 제가 말할 순 없죠 베트남 일본 과학이지만 모든 영상 일부는 오니까 파전에 이렇게 짧은 시간에도 향기 가득한 치과에 전화 엄청나게 많은 일이 일어나고 있습니다 1분 동안 106명이 사람이 좋고 250명에 생명의 태어나고 114명을 다 망가져서 편하고 그대눈에 12만 깜빡이고 75명이 심장은 6008 가지고 660만 일터에서 비가 사용되고 2500원의 쏟아지고 E300 또는 먹을 수 있는 음식물 쓰레기고 5번에 지진이 발생하고 6,000원에 천둥이 떨어지고 6천개의 공기가 날아다니고 우주를 4570s 팽창하고 그동안 얘는 4 m 움직이고 6 - 26 칼로리를 성공하고 1만개 콘돔이 팔리고 17만명이 인간이 색칠을 하고 그러면 일에 저장해 정자가 이용권 1분 동안 색스가 170927 많은 34 34 지구의 인구 수가 75억 이니까 34길 75 4533 4503 남해군 그리고이 영상은 제가 처음으로 1분의 탁 맞추어 끝내는\n"
     ]
    }
   ],
   "source": [
    "import speech_recognition as sr\n",
    "\n",
    "# 음성 파일 경로 설정\n",
    "audio_file = \"./audio_file.wav\"\n",
    "\n",
    "# 음성 파일에서 음성 추출\n",
    "r = sr.Recognizer()\n",
    "with sr.AudioFile(audio_file) as source:\n",
    "    audio_data = r.record(source)\n",
    "text = r.recognize_google(audio_data, language='ko-KR')\n",
    "print(text)\n",
    "\n",
    "# 추출된 음성을 텍스트 파일로 저장\n",
    "with open('result.txt', 'w') as f:\n",
    "    f.write(text)"
   ]
  }
 ],
 "metadata": {
  "kernelspec": {
   "display_name": "Python 3 (ipykernel)",
   "language": "python",
   "name": "python3"
  },
  "language_info": {
   "codemirror_mode": {
    "name": "ipython",
    "version": 3
   },
   "file_extension": ".py",
   "mimetype": "text/x-python",
   "name": "python",
   "nbconvert_exporter": "python",
   "pygments_lexer": "ipython3",
   "version": "3.9.12"
  }
 },
 "nbformat": 4,
 "nbformat_minor": 5
}
