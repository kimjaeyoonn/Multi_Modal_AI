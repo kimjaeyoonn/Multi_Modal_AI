{
 "cells": [
  {
   "cell_type": "markdown",
   "id": "1be695f1",
   "metadata": {},
   "source": [
    "## 작업에 필요한 라이브러리\n",
    "- pytube\n",
    "- moviepy\n",
    "- SpeechRecognition\n",
    "- pocketsphinx\n",
    "- ffmpeg-python"
   ]
  },
  {
   "cell_type": "markdown",
   "id": "a42b09da",
   "metadata": {},
   "source": [
    "## Youtube 영상 다운로드\n",
    "- pytube 라이브러리 사용하여 다운로드"
   ]
  },
  {
   "cell_type": "code",
   "execution_count": 46,
   "id": "e496ecf3",
   "metadata": {},
   "outputs": [
    {
     "data": {
      "text/plain": [
       "'C:\\\\Users\\\\User\\\\Jupyter NotebookJupyter NotebookJupyter Notebook\\\\KETI\\\\./example_video.mp4'"
      ]
     },
     "execution_count": 46,
     "metadata": {},
     "output_type": "execute_result"
    }
   ],
   "source": [
    "from pytube import YouTube\n",
    "\n",
    "# 유튜브 영상 URL\n",
    "url = \"https://www.youtube.com/watch?v=oYnfsg-l0KM\"\n",
    "\n",
    "# 유튜브 영상 객체 생성\n",
    "video = YouTube(url)\n",
    "\n",
    "stream = video.streams.get_highest_resolution()\n",
    "\n",
    "# 유튜브 영상 다운로드\n",
    "stream.download(output_path=\"./\", filename=\"example_video.mp4\")"
   ]
  },
  {
   "cell_type": "markdown",
   "id": "553d70f4",
   "metadata": {},
   "source": [
    "## 영상에서 음성 추출\n",
    "- movipy 라이브러리 사용하여 음성 추출"
   ]
  },
  {
   "cell_type": "code",
   "execution_count": 50,
   "id": "c509c115",
   "metadata": {},
   "outputs": [
    {
     "name": "stdout",
     "output_type": "stream",
     "text": [
      "MoviePy - Writing audio in audio_file.wav\n"
     ]
    },
    {
     "name": "stderr",
     "output_type": "stream",
     "text": [
      "                                                                                                                       "
     ]
    },
    {
     "name": "stdout",
     "output_type": "stream",
     "text": [
      "MoviePy - Done.\n"
     ]
    },
    {
     "name": "stderr",
     "output_type": "stream",
     "text": [
      "\r"
     ]
    }
   ],
   "source": [
    "from moviepy.video.io.VideoFileClip import VideoFileClip\n",
    "\n",
    "# 다운로드한 유튜브 영상 파일 경로\n",
    "video_file = \"./example_video.mp4\"\n",
    "\n",
    "# VideoFileClip 객체 생성\n",
    "video = VideoFileClip(video_file)\n",
    "\n",
    "# 음성 추출\n",
    "audio = video.audio\n",
    "audio.write_audiofile(\"audio_file.wav\")"
   ]
  },
  {
   "cell_type": "markdown",
   "id": "c2b227c8",
   "metadata": {},
   "source": [
    "## Speech to Text\n",
    "- speech_recognition 라이브러리 사용하여 변환"
   ]
  },
  {
   "cell_type": "code",
   "execution_count": 1,
   "id": "800173dd",
   "metadata": {},
   "outputs": [],
   "source": [
    "import speech_recognition as sr\n",
    "\n",
    "# 음성 파일 경로 설정\n",
    "audio_file = \"./audio_file.wav\"\n",
    "\n",
    "# 음성 파일에서 음성 추출\n",
    "r = sr.Recognizer()\n",
    "with sr.AudioFile(audio_file) as source:\n",
    "    audio_data = r.record(source)\n",
    "text = r.recognize_google(audio_data, language='ko-KR')\n",
    "\n",
    "\n",
    "# 추출된 음성을 텍스트 파일로 저장\n",
    "with open('result.txt', 'w') as f:\n",
    "    f.write(text)"
   ]
  }
 ],
 "metadata": {
  "kernelspec": {
   "display_name": "Python 3 (ipykernel)",
   "language": "python",
   "name": "python3"
  },
  "language_info": {
   "codemirror_mode": {
    "name": "ipython",
    "version": 3
   },
   "file_extension": ".py",
   "mimetype": "text/x-python",
   "name": "python",
   "nbconvert_exporter": "python",
   "pygments_lexer": "ipython3",
   "version": "3.10.10"
  }
 },
 "nbformat": 4,
 "nbformat_minor": 5
}
